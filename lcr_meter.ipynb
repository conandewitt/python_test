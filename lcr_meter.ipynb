{
 "cells": [
  {
   "cell_type": "code",
   "execution_count": 1,
   "metadata": {},
   "outputs": [],
   "source": [
    "import visa\n",
    "import sys\n",
    "import os\n",
    "import numpy as np\n",
    "import pandas as pd\n",
    "import time\n",
    "from matplotlib import pyplot as plt"
   ]
  },
  {
   "cell_type": "code",
   "execution_count": 2,
   "metadata": {},
   "outputs": [
    {
     "name": "stdout",
     "output_type": "stream",
     "text": [
      "USB0::0x0957::0x0909::MY54204090::0::INSTR\n"
     ]
    }
   ],
   "source": [
    "rm = visa.ResourceManager()\n",
    "VISA_ADDRESS=rm.list_resources()[0]\n",
    "print(VISA_ADDRESS)"
   ]
  },
  {
   "cell_type": "code",
   "execution_count": 3,
   "metadata": {},
   "outputs": [],
   "source": [
    "num_samples=100\n",
    "lcr_df=pd.DataFrame(np.zeros((num_samples,3)),columns=['Ls','Q','timestamp'])\n",
    "# lcr_df"
   ]
  },
  {
   "cell_type": "code",
   "execution_count": 4,
   "metadata": {},
   "outputs": [
    {
     "name": "stdout",
     "output_type": "stream",
     "text": [
      "0.00013844474130265483\t19.253553134871332\n"
     ]
    }
   ],
   "source": [
    "E4980AL = rm.open_resource(VISA_ADDRESS)\n",
    "E4980AL.write(':TRIGger:SOURce %s' % ('BUS'))\n",
    "\n",
    "E4980AL.write(':FORMat:BORDer %s' % ('SWAP'))\n",
    "E4980AL.write(':FORMat:DATA %s' % ('REAL'))\n",
    "\n",
    "\n",
    "loopstart=time.time()\n",
    "for i in range(num_samples):\n",
    "    \n",
    "    E4980AL.write(':TRIGger:IMMediate')\n",
    "    Ls,Q,_ = E4980AL.query_binary_values(':FETCh:IMPedance:FORMatted?','d',False)\n",
    "    E4980AL.write(':MEMory:CLEar %s' % ('DBUF'))\n",
    "    now=time.time()-loopstart\n",
    "    lcr_df.loc[i]=[Ls*1E6,Q*100,now]\n",
    "    time.sleep(0.01)\n",
    "\n",
    "\n",
    "E4980AL.close()\n",
    "rm.close()\n",
    "\n",
    "print(Ls,Q, sep='\\t')\n",
    "# end of py_test\n",
    "# lcr_df.tail(10)"
   ]
  },
  {
   "cell_type": "code",
   "execution_count": 5,
   "metadata": {},
   "outputs": [],
   "source": [
    "directory=r'C:\\Users\\dewittc\\OneDrive - Boston Scientific\\meter\\lcr_meter\\raw_data'\n",
    "os.chdir(directory)\n",
    "filename='42AWG_4_250_7_3.csv'\n",
    "lcr_df.to_csv(filename)\n",
    "# lcr_df.tail(10)"
   ]
  },
  {
   "cell_type": "code",
   "execution_count": 6,
   "metadata": {},
   "outputs": [
    {
     "data": {
      "text/plain": [
       "Text(0.5,0,'time (s)')"
      ]
     },
     "execution_count": 6,
     "metadata": {},
     "output_type": "execute_result"
    },
    {
     "data": {
      "image/png": "[encoded data removed]",
      "text/plain": [
       "<matplotlib.figure.Figure at 0x2e79824de10>"
      ]
     },
     "metadata": {},
     "output_type": "display_data"
    }
   ],
   "source": [
    "fig,ax=plt.subplots(nrows=1,ncols=1)\n",
    "ax.scatter(lcr_df['timestamp'],lcr_df['Ls'])\n",
    "ax.set_title('Inductance vs time')\n",
    "ax.set_ylabel('Ls (uH)')\n",
    "ax.set_xlabel('time (s)')"
   ]
  }
 ],
 "metadata": {
  "kernelspec": {
   "display_name": "Python 3",
   "language": "python",
   "name": "python3"
  },
  "language_info": {
   "codemirror_mode": {
    "name": "ipython",
    "version": 3
   },
   "file_extension": ".py",
   "mimetype": "text/x-python",
   "name": "python",
   "nbconvert_exporter": "python",
   "pygments_lexer": "ipython3",
   "version": "3.6.5"
  }
 },
 "nbformat": 4,
 "nbformat_minor": 2
}
