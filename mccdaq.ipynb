{
 "cells": [
  {
   "cell_type": "code",
   "execution_count": 1,
   "metadata": {},
   "outputs": [
    {
     "data": {
      "text/html": [
       "\n",
       "    <div class=\"bk-root\">\n",
       "        <a href=\"https://bokeh.pydata.org\" target=\"_blank\" class=\"bk-logo bk-logo-small bk-logo-notebook\"></a>\n",
       "        <span id=\"bbdaa318-e18d-4ad8-8e71-88a7ea11a5fe\">Loading BokehJS ...</span>\n",
       "    </div>"
      ]
     },
     "metadata": {},
     "output_type": "display_data"
    },
    {
     "data": {
      "application/javascript": [
       "\n",
       "(function(root) {\n",
       "  function now() {\n",
       "    return new Date();\n",
       "  }\n",
       "\n",
       "  var force = true;\n",
       "\n",
       "  if (typeof (root._bokeh_onload_callbacks) === \"undefined\" || force === true) {\n",
       "    root._bokeh_onload_callbacks = [];\n",
       "    root._bokeh_is_loading = undefined;\n",
       "  }\n",
       "\n",
       "  var JS_MIME_TYPE = 'application/javascript';\n",
       "  var HTML_MIME_TYPE = 'text/html';\n",
       "  var EXEC_MIME_TYPE = 'application/vnd.bokehjs_exec.v0+json';\n",
       "  var CLASS_NAME = 'output_bokeh rendered_html';\n",
       "\n",
       "  /**\n",
       "   * Render data to the DOM node\n",
       "   */\n",
       "  function render(props, node) {\n",
       "    var script = document.createElement(\"script\");\n",
       "    node.appendChild(script);\n",
       "  }\n",
       "\n",
       "  /**\n",
       "   * Handle when an output is cleared or removed\n",
       "   */\n",
       "  function handleClearOutput(event, handle) {\n",
       "    var cell = handle.cell;\n",
       "\n",
       "    var id = cell.output_area._bokeh_element_id;\n",
       "    var server_id = cell.output_area._bokeh_server_id;\n",
       "    // Clean up Bokeh references\n",
       "    if (id !== undefined) {\n",
       "      Bokeh.index[id].model.document.clear();\n",
       "      delete Bokeh.index[id];\n",
       "    }\n",
       "\n",
       "    if (server_id !== undefined) {\n",
       "      // Clean up Bokeh references\n",
       "      var cmd = \"from bokeh.io.state import curstate; print(curstate().uuid_to_server['\" + server_id + \"'].get_sessions()[0].document.roots[0]._id)\";\n",
       "      cell.notebook.kernel.execute(cmd, {\n",
       "        iopub: {\n",
       "          output: function(msg) {\n",
       "            var element_id = msg.content.text.trim();\n",
       "            Bokeh.index[element_id].model.document.clear();\n",
       "            delete Bokeh.index[element_id];\n",
       "          }\n",
       "        }\n",
       "      });\n",
       "      // Destroy server and session\n",
       "      var cmd = \"import bokeh.io.notebook as ion; ion.destroy_server('\" + server_id + \"')\";\n",
       "      cell.notebook.kernel.execute(cmd);\n",
       "    }\n",
       "  }\n",
       "\n",
       "  /**\n",
       "   * Handle when a new output is added\n",
       "   */\n",
       "  function handleAddOutput(event, handle) {\n",
       "    var output_area = handle.output_area;\n",
       "    var output = handle.output;\n",
       "\n",
       "    // limit handleAddOutput to display_data with EXEC_MIME_TYPE content only\n",
       "    if ((output.output_type != \"display_data\") || (!output.data.hasOwnProperty(EXEC_MIME_TYPE))) {\n",
       "      return\n",
       "    }\n",
       "\n",
       "    var toinsert = output_area.element.find(\".\" + CLASS_NAME.split(' ')[0]);\n",
       "\n",
       "    if (output.metadata[EXEC_MIME_TYPE][\"id\"] !== undefined) {\n",
       "      toinsert[toinsert.length - 1].firstChild.textContent = output.data[JS_MIME_TYPE];\n",
       "      // store reference to embed id on output_area\n",
       "      output_area._bokeh_element_id = output.metadata[EXEC_MIME_TYPE][\"id\"];\n",
       "    }\n",
       "    if (output.metadata[EXEC_MIME_TYPE][\"server_id\"] !== undefined) {\n",
       "      var bk_div = document.createElement(\"div\");\n",
       "      bk_div.innerHTML = output.data[HTML_MIME_TYPE];\n",
       "      var script_attrs = bk_div.children[0].attributes;\n",
       "      for (var i = 0; i < script_attrs.length; i++) {\n",
       "        toinsert[toinsert.length - 1].firstChild.setAttribute(script_attrs[i].name, script_attrs[i].value);\n",
       "      }\n",
       "      // store reference to server id on output_area\n",
       "      output_area._bokeh_server_id = output.metadata[EXEC_MIME_TYPE][\"server_id\"];\n",
       "    }\n",
       "  }\n",
       "\n",
       "  function register_renderer(events, OutputArea) {\n",
       "\n",
       "    function append_mime(data, metadata, element) {\n",
       "      // create a DOM node to render to\n",
       "      var toinsert = this.create_output_subarea(\n",
       "        metadata,\n",
       "        CLASS_NAME,\n",
       "        EXEC_MIME_TYPE\n",
       "      );\n",
       "      this.keyboard_manager.register_events(toinsert);\n",
       "      // Render to node\n",
       "      var props = {data: data, metadata: metadata[EXEC_MIME_TYPE]};\n",
       "      render(props, toinsert[toinsert.length - 1]);\n",
       "      element.append(toinsert);\n",
       "      return toinsert\n",
       "    }\n",
       "\n",
       "    /* Handle when an output is cleared or removed */\n",
       "    events.on('clear_output.CodeCell', handleClearOutput);\n",
       "    events.on('delete.Cell', handleClearOutput);\n",
       "\n",
       "    /* Handle when a new output is added */\n",
       "    events.on('output_added.OutputArea', handleAddOutput);\n",
       "\n",
       "    /**\n",
       "     * Register the mime type and append_mime function with output_area\n",
       "     */\n",
       "    OutputArea.prototype.register_mime_type(EXEC_MIME_TYPE, append_mime, {\n",
       "      /* Is output safe? */\n",
       "      safe: true,\n",
       "      /* Index of renderer in `output_area.display_order` */\n",
       "      index: 0\n",
       "    });\n",
       "  }\n",
       "\n",
       "  // register the mime type if in Jupyter Notebook environment and previously unregistered\n",
       "  if (root.Jupyter !== undefined) {\n",
       "    var events = require('base/js/events');\n",
       "    var OutputArea = require('notebook/js/outputarea').OutputArea;\n",
       "\n",
       "    if (OutputArea.prototype.mime_types().indexOf(EXEC_MIME_TYPE) == -1) {\n",
       "      register_renderer(events, OutputArea);\n",
       "    }\n",
       "  }\n",
       "\n",
       "  \n",
       "  if (typeof (root._bokeh_timeout) === \"undefined\" || force === true) {\n",
       "    root._bokeh_timeout = Date.now() + 5000;\n",
       "    root._bokeh_failed_load = false;\n",
       "  }\n",
       "\n",
       "  var NB_LOAD_WARNING = {'data': {'text/html':\n",
       "     \"<div style='background-color: #fdd'>\\n\"+\n",
       "     \"<p>\\n\"+\n",
       "     \"BokehJS does not appear to have successfully loaded. If loading BokehJS from CDN, this \\n\"+\n",
       "     \"may be due to a slow or bad network connection. Possible fixes:\\n\"+\n",
       "     \"</p>\\n\"+\n",
       "     \"<ul>\\n\"+\n",
       "     \"<li>re-rerun `output_notebook()` to attempt to load from CDN again, or</li>\\n\"+\n",
       "     \"<li>use INLINE resources instead, as so:</li>\\n\"+\n",
       "     \"</ul>\\n\"+\n",
       "     \"<code>\\n\"+\n",
       "     \"from bokeh.resources import INLINE\\n\"+\n",
       "     \"output_notebook(resources=INLINE)\\n\"+\n",
       "     \"</code>\\n\"+\n",
       "     \"</div>\"}};\n",
       "\n",
       "  function display_loaded() {\n",
       "    var el = document.getElementById(\"bbdaa318-e18d-4ad8-8e71-88a7ea11a5fe\");\n",
       "    if (el != null) {\n",
       "      el.textContent = \"BokehJS is loading...\";\n",
       "    }\n",
       "    if (root.Bokeh !== undefined) {\n",
       "      if (el != null) {\n",
       "        el.textContent = \"BokehJS \" + root.Bokeh.version + \" successfully loaded.\";\n",
       "      }\n",
       "    } else if (Date.now() < root._bokeh_timeout) {\n",
       "      setTimeout(display_loaded, 100)\n",
       "    }\n",
       "  }\n",
       "\n",
       "\n",
       "  function run_callbacks() {\n",
       "    try {\n",
       "      root._bokeh_onload_callbacks.forEach(function(callback) { callback() });\n",
       "    }\n",
       "    finally {\n",
       "      delete root._bokeh_onload_callbacks\n",
       "    }\n",
       "    console.info(\"Bokeh: all callbacks have finished\");\n",
       "  }\n",
       "\n",
       "  function load_libs(js_urls, callback) {\n",
       "    root._bokeh_onload_callbacks.push(callback);\n",
       "    if (root._bokeh_is_loading > 0) {\n",
       "      console.log(\"Bokeh: BokehJS is being loaded, scheduling callback at\", now());\n",
       "      return null;\n",
       "    }\n",
       "    if (js_urls == null || js_urls.length === 0) {\n",
       "      run_callbacks();\n",
       "      return null;\n",
       "    }\n",
       "    console.log(\"Bokeh: BokehJS not loaded, scheduling load and callback at\", now());\n",
       "    root._bokeh_is_loading = js_urls.length;\n",
       "    for (var i = 0; i < js_urls.length; i++) {\n",
       "      var url = js_urls[i];\n",
       "      var s = document.createElement('script');\n",
       "      s.src = url;\n",
       "      s.async = false;\n",
       "      s.onreadystatechange = s.onload = function() {\n",
       "        root._bokeh_is_loading--;\n",
       "        if (root._bokeh_is_loading === 0) {\n",
       "          console.log(\"Bokeh: all BokehJS libraries loaded\");\n",
       "          run_callbacks()\n",
       "        }\n",
       "      };\n",
       "      s.onerror = function() {\n",
       "        console.warn(\"failed to load library \" + url);\n",
       "      };\n",
       "      console.log(\"Bokeh: injecting script tag for BokehJS library: \", url);\n",
       "      document.getElementsByTagName(\"head\")[0].appendChild(s);\n",
       "    }\n",
       "  };var element = document.getElementById(\"bbdaa318-e18d-4ad8-8e71-88a7ea11a5fe\");\n",
       "  if (element == null) {\n",
       "    console.log(\"Bokeh: ERROR: autoload.js configured with elementid 'bbdaa318-e18d-4ad8-8e71-88a7ea11a5fe' but no matching script tag was found. \")\n",
       "    return false;\n",
       "  }\n",
       "\n",
       "  var js_urls = [\"https://cdn.pydata.org/bokeh/release/bokeh-0.12.16.min.js\", \"https://cdn.pydata.org/bokeh/release/bokeh-widgets-0.12.16.min.js\", \"https://cdn.pydata.org/bokeh/release/bokeh-tables-0.12.16.min.js\", \"https://cdn.pydata.org/bokeh/release/bokeh-gl-0.12.16.min.js\"];\n",
       "\n",
       "  var inline_js = [\n",
       "    function(Bokeh) {\n",
       "      Bokeh.set_log_level(\"info\");\n",
       "    },\n",
       "    \n",
       "    function(Bokeh) {\n",
       "      \n",
       "    },\n",
       "    function(Bokeh) {\n",
       "      console.log(\"Bokeh: injecting CSS: https://cdn.pydata.org/bokeh/release/bokeh-0.12.16.min.css\");\n",
       "      Bokeh.embed.inject_css(\"https://cdn.pydata.org/bokeh/release/bokeh-0.12.16.min.css\");\n",
       "      console.log(\"Bokeh: injecting CSS: https://cdn.pydata.org/bokeh/release/bokeh-widgets-0.12.16.min.css\");\n",
       "      Bokeh.embed.inject_css(\"https://cdn.pydata.org/bokeh/release/bokeh-widgets-0.12.16.min.css\");\n",
       "      console.log(\"Bokeh: injecting CSS: https://cdn.pydata.org/bokeh/release/bokeh-tables-0.12.16.min.css\");\n",
       "      Bokeh.embed.inject_css(\"https://cdn.pydata.org/bokeh/release/bokeh-tables-0.12.16.min.css\");\n",
       "    }\n",
       "  ];\n",
       "\n",
       "  function run_inline_js() {\n",
       "    \n",
       "    if ((root.Bokeh !== undefined) || (force === true)) {\n",
       "      for (var i = 0; i < inline_js.length; i++) {\n",
       "        inline_js[i].call(root, root.Bokeh);\n",
       "      }if (force === true) {\n",
       "        display_loaded();\n",
       "      }} else if (Date.now() < root._bokeh_timeout) {\n",
       "      setTimeout(run_inline_js, 100);\n",
       "    } else if (!root._bokeh_failed_load) {\n",
       "      console.log(\"Bokeh: BokehJS failed to load within specified timeout.\");\n",
       "      root._bokeh_failed_load = true;\n",
       "    } else if (force !== true) {\n",
       "      var cell = $(document.getElementById(\"bbdaa318-e18d-4ad8-8e71-88a7ea11a5fe\")).parents('.cell').data().cell;\n",
       "      cell.output_area.append_execute_result(NB_LOAD_WARNING)\n",
       "    }\n",
       "\n",
       "  }\n",
       "\n",
       "  if (root._bokeh_is_loading === 0) {\n",
       "    console.log(\"Bokeh: BokehJS loaded, going straight to plotting\");\n",
       "    run_inline_js();\n",
       "  } else {\n",
       "    load_libs(js_urls, function() {\n",
       "      console.log(\"Bokeh: BokehJS plotting callback run at\", now());\n",
       "      run_inline_js();\n",
       "    });\n",
       "  }\n",
       "}(window));"
      ],
      "application/vnd.bokehjs_load.v0+json": "\n(function(root) {\n  function now() {\n    return new Date();\n  }\n\n  var force = true;\n\n  if (typeof (root._bokeh_onload_callbacks) === \"undefined\" || force === true) {\n    root._bokeh_onload_callbacks = [];\n    root._bokeh_is_loading = undefined;\n  }\n\n  \n\n  \n  if (typeof (root._bokeh_timeout) === \"undefined\" || force === true) {\n    root._bokeh_timeout = Date.now() + 5000;\n    root._bokeh_failed_load = false;\n  }\n\n  var NB_LOAD_WARNING = {'data': {'text/html':\n     \"<div style='background-color: #fdd'>\\n\"+\n     \"<p>\\n\"+\n     \"BokehJS does not appear to have successfully loaded. If loading BokehJS from CDN, this \\n\"+\n     \"may be due to a slow or bad network connection. Possible fixes:\\n\"+\n     \"</p>\\n\"+\n     \"<ul>\\n\"+\n     \"<li>re-rerun `output_notebook()` to attempt to load from CDN again, or</li>\\n\"+\n     \"<li>use INLINE resources instead, as so:</li>\\n\"+\n     \"</ul>\\n\"+\n     \"<code>\\n\"+\n     \"from bokeh.resources import INLINE\\n\"+\n     \"output_notebook(resources=INLINE)\\n\"+\n     \"</code>\\n\"+\n     \"</div>\"}};\n\n  function display_loaded() {\n    var el = document.getElementById(\"bbdaa318-e18d-4ad8-8e71-88a7ea11a5fe\");\n    if (el != null) {\n      el.textContent = \"BokehJS is loading...\";\n    }\n    if (root.Bokeh !== undefined) {\n      if (el != null) {\n        el.textContent = \"BokehJS \" + root.Bokeh.version + \" successfully loaded.\";\n      }\n    } else if (Date.now() < root._bokeh_timeout) {\n      setTimeout(display_loaded, 100)\n    }\n  }\n\n\n  function run_callbacks() {\n    try {\n      root._bokeh_onload_callbacks.forEach(function(callback) { callback() });\n    }\n    finally {\n      delete root._bokeh_onload_callbacks\n    }\n    console.info(\"Bokeh: all callbacks have finished\");\n  }\n\n  function load_libs(js_urls, callback) {\n    root._bokeh_onload_callbacks.push(callback);\n    if (root._bokeh_is_loading > 0) {\n      console.log(\"Bokeh: BokehJS is being loaded, scheduling callback at\", now());\n      return null;\n    }\n    if (js_urls == null || js_urls.length === 0) {\n      run_callbacks();\n      return null;\n    }\n    console.log(\"Bokeh: BokehJS not loaded, scheduling load and callback at\", now());\n    root._bokeh_is_loading = js_urls.length;\n    for (var i = 0; i < js_urls.length; i++) {\n      var url = js_urls[i];\n      var s = document.createElement('script');\n      s.src = url;\n      s.async = false;\n      s.onreadystatechange = s.onload = function() {\n        root._bokeh_is_loading--;\n        if (root._bokeh_is_loading === 0) {\n          console.log(\"Bokeh: all BokehJS libraries loaded\");\n          run_callbacks()\n        }\n      };\n      s.onerror = function() {\n        console.warn(\"failed to load library \" + url);\n      };\n      console.log(\"Bokeh: injecting script tag for BokehJS library: \", url);\n      document.getElementsByTagName(\"head\")[0].appendChild(s);\n    }\n  };var element = document.getElementById(\"bbdaa318-e18d-4ad8-8e71-88a7ea11a5fe\");\n  if (element == null) {\n    console.log(\"Bokeh: ERROR: autoload.js configured with elementid 'bbdaa318-e18d-4ad8-8e71-88a7ea11a5fe' but no matching script tag was found. \")\n    return false;\n  }\n\n  var js_urls = [\"https://cdn.pydata.org/bokeh/release/bokeh-0.12.16.min.js\", \"https://cdn.pydata.org/bokeh/release/bokeh-widgets-0.12.16.min.js\", \"https://cdn.pydata.org/bokeh/release/bokeh-tables-0.12.16.min.js\", \"https://cdn.pydata.org/bokeh/release/bokeh-gl-0.12.16.min.js\"];\n\n  var inline_js = [\n    function(Bokeh) {\n      Bokeh.set_log_level(\"info\");\n    },\n    \n    function(Bokeh) {\n      \n    },\n    function(Bokeh) {\n      console.log(\"Bokeh: injecting CSS: https://cdn.pydata.org/bokeh/release/bokeh-0.12.16.min.css\");\n      Bokeh.embed.inject_css(\"https://cdn.pydata.org/bokeh/release/bokeh-0.12.16.min.css\");\n      console.log(\"Bokeh: injecting CSS: https://cdn.pydata.org/bokeh/release/bokeh-widgets-0.12.16.min.css\");\n      Bokeh.embed.inject_css(\"https://cdn.pydata.org/bokeh/release/bokeh-widgets-0.12.16.min.css\");\n      console.log(\"Bokeh: injecting CSS: https://cdn.pydata.org/bokeh/release/bokeh-tables-0.12.16.min.css\");\n      Bokeh.embed.inject_css(\"https://cdn.pydata.org/bokeh/release/bokeh-tables-0.12.16.min.css\");\n    }\n  ];\n\n  function run_inline_js() {\n    \n    if ((root.Bokeh !== undefined) || (force === true)) {\n      for (var i = 0; i < inline_js.length; i++) {\n        inline_js[i].call(root, root.Bokeh);\n      }if (force === true) {\n        display_loaded();\n      }} else if (Date.now() < root._bokeh_timeout) {\n      setTimeout(run_inline_js, 100);\n    } else if (!root._bokeh_failed_load) {\n      console.log(\"Bokeh: BokehJS failed to load within specified timeout.\");\n      root._bokeh_failed_load = true;\n    } else if (force !== true) {\n      var cell = $(document.getElementById(\"bbdaa318-e18d-4ad8-8e71-88a7ea11a5fe\")).parents('.cell').data().cell;\n      cell.output_area.append_execute_result(NB_LOAD_WARNING)\n    }\n\n  }\n\n  if (root._bokeh_is_loading === 0) {\n    console.log(\"Bokeh: BokehJS loaded, going straight to plotting\");\n    run_inline_js();\n  } else {\n    load_libs(js_urls, function() {\n      console.log(\"Bokeh: BokehJS plotting callback run at\", now());\n      run_inline_js();\n    });\n  }\n}(window));"
     },
     "metadata": {},
     "output_type": "display_data"
    }
   ],
   "source": [
    "import time\n",
    "import sys\n",
    "sys.path.append(r'C:\\Users\\Kingdel\\Desktop\\python\\mcc_examples')\n",
    "\n",
    "from mcculw import ul\n",
    "from mcculw.enums import DigitalIODirection\n",
    "from examples.console import util\n",
    "from examples.props.digital import DigitalProps\n",
    "from mcculw.ul import ULError\n",
    "from examples.props.ai import AnalogInputProps\n",
    "\n",
    "import matplotlib.pyplot as plt\n",
    "%matplotlib inline\n",
    "\n",
    "import numpy as np\n",
    "import pandas as pd\n",
    "from ipywidgets import widgets\n",
    "\n",
    "from bokeh.plotting import figure,show\n",
    "from bokeh.io import output_notebook, push_notebook\n",
    "output_notebook()"
   ]
  },
  {
   "cell_type": "code",
   "execution_count": 2,
   "metadata": {},
   "outputs": [
    {
     "name": "stdout",
     "output_type": "stream",
     "text": [
      "Found device: USB-202 (1D55213)\n",
      "\n"
     ]
    }
   ],
   "source": [
    "#detect devices\n",
    "board_num=0\n",
    "\n",
    "ul.ignore_instacal()\n",
    "if not util.config_first_detected_device(board_num):\n",
    "    print(\"Could not find device.\")\n"
   ]
  },
  {
   "cell_type": "code",
   "execution_count": 3,
   "metadata": {},
   "outputs": [
    {
     "name": "stdout",
     "output_type": "stream",
     "text": [
      "Setting AUXPORT to 255.\n",
      "Setting AUXPORT bit 0 to 1.\n"
     ]
    }
   ],
   "source": [
    "#set port information\n",
    "digital_props = DigitalProps(board_num)\n",
    "\n",
    "port = next(\n",
    "    (port for port in digital_props.port_info\n",
    "     if port.supports_output), None)\n",
    "if port == None:\n",
    "    util.print_unsupported_example(board_num)\n",
    "\n",
    "# If the port is configurable, configure it for output.\n",
    "if port.is_port_configurable:\n",
    "    ul.d_config_port(board_num, port.type, DigitalIODirection.OUT)\n",
    "\n",
    "port_value = 0xFF\n",
    "\n",
    "print(\"Setting \" + port.type.name + \" to \" + str(port_value) + \".\")\n",
    "\n",
    "# Output the value to the port\n",
    "ul.d_out(board_num, port.type, port_value)\n",
    "\n",
    "bit_num = 0 #CH0 --> normally high\n",
    "bit_value = 1 ##set 5V to HIGH, power the sensor\n",
    "print(\"Setting \" + port.type.name + \" bit \" + str(bit_num) + \" to \"+ str(bit_value) + \".\")\n",
    "\n",
    "# Output the value to the bit\n",
    "ul.d_bit_out(board_num, port.type, bit_num, bit_value)"
   ]
  },
  {
   "cell_type": "code",
   "execution_count": 4,
   "metadata": {},
   "outputs": [],
   "source": [
    "##set analog acquisition params\n",
    "channel = 0\n",
    "ai_props = AnalogInputProps(board_num)\n",
    "ai_range = ai_props.available_ranges[0]"
   ]
  },
  {
   "cell_type": "code",
   "execution_count": 13,
   "metadata": {},
   "outputs": [
    {
     "name": "stdout",
     "output_type": "stream",
     "text": [
      "Raw Value: 2537\n",
      "Engineering Value: 2.388\n"
     ]
    }
   ],
   "source": [
    "# Get a single value from the device\n",
    "\n",
    "# Use the a_in method for devices with a resolution <= 16\n",
    "value = ul.a_in(board_num, channel, ai_range)\n",
    "# Convert the raw value to engineering units\n",
    "eng_units_value = ul.to_eng_units(board_num, ai_range, value)\n",
    "\n",
    "\n",
    "# Display the raw value\n",
    "print(\"Raw Value: \" + str(value))\n",
    "# Display the engineering value\n",
    "print(\"Engineering Value: \" + '{:.3f}'.format(eng_units_value))"
   ]
  },
  {
   "cell_type": "code",
   "execution_count": 6,
   "metadata": {},
   "outputs": [],
   "source": [
    "#plot data in 'real time'\n",
    "\n",
    "# p1=figure(plot_width=650,plot_height=350)\n",
    "# t=show(p1,notebook_handle=True)\n",
    "# loop_num=50\n",
    "\n",
    "# j=0\n",
    "# for i in range(loop_num):\n",
    "#     # Use the a_in method for devices with a resolution <= 16\n",
    "#     value = ul.a_in(board_num, channel, ai_range)\n",
    "#     eng_units_value = ul.to_eng_units(board_num, ai_range, value) # Convert the raw value to engineering units\n",
    "# #     print(\"Raw Value: \" + str(value))  #Display the raw value\n",
    "# #     print(\"Engineering Value: \" + '{:.3f}'.format(eng_units_value)) # Display the engineering value\n",
    "    \n",
    "#     y=eng_units_value\n",
    "#     r1=p1.circle(j,y,size=10)\n",
    "#     push_notebook(handle=t)\n",
    "    \n",
    "#     j+=1\n",
    "#     time.sleep(0.75)"
   ]
  },
  {
   "cell_type": "code",
   "execution_count": 7,
   "metadata": {},
   "outputs": [],
   "source": [
    "# ul.release_daq_device(board_num)"
   ]
  },
  {
   "cell_type": "code",
   "execution_count": 8,
   "metadata": {},
   "outputs": [
    {
     "name": "stdout",
     "output_type": "stream",
     "text": [
      "enter filename for test run\n"
     ]
    },
    {
     "data": {
      "application/vnd.jupyter.widget-view+json": {
       "model_id": "659d92d3d9e246fc816e478c5712a9b4",
       "version_major": 2,
       "version_minor": 0
      },
      "text/plain": [
       "Text(value='')"
      ]
     },
     "metadata": {},
     "output_type": "display_data"
    },
    {
     "data": {
      "application/vnd.jupyter.widget-view+json": {
       "model_id": "c0ff2acdad68467cba965fd678e6795b",
       "version_major": 2,
       "version_minor": 0
      },
      "text/plain": [
       "Button(description='start data logging', style=ButtonStyle())"
      ]
     },
     "metadata": {},
     "output_type": "display_data"
    },
    {
     "data": {
      "application/vnd.jupyter.widget-view+json": {
       "model_id": "1da55dedbea94e2a892bb45fde75bf36",
       "version_major": 2,
       "version_minor": 0
      },
      "text/plain": [
       "Button(description='stop data logging', style=ButtonStyle())"
      ]
     },
     "metadata": {},
     "output_type": "display_data"
    },
    {
     "data": {
      "text/html": [
       "\n",
       "<div class=\"bk-root\">\n",
       "    <div class=\"bk-plotdiv\" id=\"054d5df3-8dd9-4d3f-a082-4288c75b15c8\"></div>\n",
       "</div>"
      ]
     },
     "metadata": {},
     "output_type": "display_data"
    },
    {
     "data": {
      "application/javascript": [
       "(function(root) {\n",
       "  function embed_document(root) {\n",
       "    \n",
       "  var docs_json = {\"299b06c2-0a2d-4552-832f-b899ea6327cb\":{\"roots\":{\"references\":[{\"attributes\":{},\"id\":\"d0004572-9151-454f-94f7-5c4d5320f3c2\",\"type\":\"WheelZoomTool\"},{\"attributes\":{\"below\":[{\"id\":\"4561f768-45ca-43e3-bf6e-9886b5d53488\",\"type\":\"LinearAxis\"}],\"left\":[{\"id\":\"f13cd62a-87e9-40bf-8df4-e28b475e6ab4\",\"type\":\"LinearAxis\"}],\"plot_height\":350,\"plot_width\":650,\"renderers\":[{\"id\":\"4561f768-45ca-43e3-bf6e-9886b5d53488\",\"type\":\"LinearAxis\"},{\"id\":\"38c9d46e-0d6f-46e3-93b6-6748183b07ca\",\"type\":\"Grid\"},{\"id\":\"f13cd62a-87e9-40bf-8df4-e28b475e6ab4\",\"type\":\"LinearAxis\"},{\"id\":\"29c83d9c-f36c-4e8e-a4e1-24c116e0a90e\",\"type\":\"Grid\"},{\"id\":\"41c97cca-4f4d-4592-acfa-0b70fde672c0\",\"type\":\"BoxAnnotation\"}],\"title\":{\"id\":\"e3cc7b22-f062-4d30-b28f-475abced5f19\",\"type\":\"Title\"},\"toolbar\":{\"id\":\"e5925c52-e32e-403a-a283-8767a9ecb20a\",\"type\":\"Toolbar\"},\"x_range\":{\"id\":\"ad4b53d5-c8cc-4045-89e1-cb447a22bbe8\",\"type\":\"DataRange1d\"},\"x_scale\":{\"id\":\"b0c98498-fa9b-488e-b80d-3692b0a61a1c\",\"type\":\"LinearScale\"},\"y_range\":{\"id\":\"85645be4-a4e0-481e-a677-19339c1d07ad\",\"type\":\"DataRange1d\"},\"y_scale\":{\"id\":\"edfc66da-1778-439f-b0df-eb57b2a5baaa\",\"type\":\"LinearScale\"}},\"id\":\"ed02dabe-aa50-4bd4-9519-e5fa0007bc8b\",\"subtype\":\"Figure\",\"type\":\"Plot\"},{\"attributes\":{\"overlay\":{\"id\":\"41c97cca-4f4d-4592-acfa-0b70fde672c0\",\"type\":\"BoxAnnotation\"}},\"id\":\"c3fcb5af-0b54-4b1e-a16d-59f519721038\",\"type\":\"BoxZoomTool\"},{\"attributes\":{},\"id\":\"b0c98498-fa9b-488e-b80d-3692b0a61a1c\",\"type\":\"LinearScale\"},{\"attributes\":{\"active_drag\":\"auto\",\"active_inspect\":\"auto\",\"active_scroll\":\"auto\",\"active_tap\":\"auto\",\"tools\":[{\"id\":\"d8b224a6-b4b7-4e84-8f1e-711c3eefb01b\",\"type\":\"PanTool\"},{\"id\":\"d0004572-9151-454f-94f7-5c4d5320f3c2\",\"type\":\"WheelZoomTool\"},{\"id\":\"c3fcb5af-0b54-4b1e-a16d-59f519721038\",\"type\":\"BoxZoomTool\"},{\"id\":\"94bf4847-0b34-4902-86e3-b1112fbb5452\",\"type\":\"SaveTool\"},{\"id\":\"0a0e2320-e273-4a99-b8ab-53d248d6f256\",\"type\":\"ResetTool\"},{\"id\":\"bff2829f-f07c-4a1e-9da7-c91f3abec4fd\",\"type\":\"HelpTool\"}]},\"id\":\"e5925c52-e32e-403a-a283-8767a9ecb20a\",\"type\":\"Toolbar\"},{\"attributes\":{\"formatter\":{\"id\":\"fd8f475c-da93-4b16-a919-4185a17b5d85\",\"type\":\"BasicTickFormatter\"},\"plot\":{\"id\":\"ed02dabe-aa50-4bd4-9519-e5fa0007bc8b\",\"subtype\":\"Figure\",\"type\":\"Plot\"},\"ticker\":{\"id\":\"dac0d79a-c593-42f3-aef6-69f6d015f2b1\",\"type\":\"BasicTicker\"}},\"id\":\"4561f768-45ca-43e3-bf6e-9886b5d53488\",\"type\":\"LinearAxis\"},{\"attributes\":{},\"id\":\"dac0d79a-c593-42f3-aef6-69f6d015f2b1\",\"type\":\"BasicTicker\"},{\"attributes\":{},\"id\":\"b2ddccb8-4654-4d81-ac30-9ee00ec34400\",\"type\":\"BasicTickFormatter\"},{\"attributes\":{},\"id\":\"edfc66da-1778-439f-b0df-eb57b2a5baaa\",\"type\":\"LinearScale\"},{\"attributes\":{\"callback\":null},\"id\":\"ad4b53d5-c8cc-4045-89e1-cb447a22bbe8\",\"type\":\"DataRange1d\"},{\"attributes\":{\"dimension\":1,\"plot\":{\"id\":\"ed02dabe-aa50-4bd4-9519-e5fa0007bc8b\",\"subtype\":\"Figure\",\"type\":\"Plot\"},\"ticker\":{\"id\":\"a5832d3d-ac55-4c75-acdb-5a55383539b5\",\"type\":\"BasicTicker\"}},\"id\":\"29c83d9c-f36c-4e8e-a4e1-24c116e0a90e\",\"type\":\"Grid\"},{\"attributes\":{\"bottom_units\":\"screen\",\"fill_alpha\":{\"value\":0.5},\"fill_color\":{\"value\":\"lightgrey\"},\"left_units\":\"screen\",\"level\":\"overlay\",\"line_alpha\":{\"value\":1.0},\"line_color\":{\"value\":\"black\"},\"line_dash\":[4,4],\"line_width\":{\"value\":2},\"plot\":null,\"render_mode\":\"css\",\"right_units\":\"screen\",\"top_units\":\"screen\"},\"id\":\"41c97cca-4f4d-4592-acfa-0b70fde672c0\",\"type\":\"BoxAnnotation\"},{\"attributes\":{},\"id\":\"fd8f475c-da93-4b16-a919-4185a17b5d85\",\"type\":\"BasicTickFormatter\"},{\"attributes\":{\"formatter\":{\"id\":\"b2ddccb8-4654-4d81-ac30-9ee00ec34400\",\"type\":\"BasicTickFormatter\"},\"plot\":{\"id\":\"ed02dabe-aa50-4bd4-9519-e5fa0007bc8b\",\"subtype\":\"Figure\",\"type\":\"Plot\"},\"ticker\":{\"id\":\"a5832d3d-ac55-4c75-acdb-5a55383539b5\",\"type\":\"BasicTicker\"}},\"id\":\"f13cd62a-87e9-40bf-8df4-e28b475e6ab4\",\"type\":\"LinearAxis\"},{\"attributes\":{},\"id\":\"bff2829f-f07c-4a1e-9da7-c91f3abec4fd\",\"type\":\"HelpTool\"},{\"attributes\":{\"plot\":{\"id\":\"ed02dabe-aa50-4bd4-9519-e5fa0007bc8b\",\"subtype\":\"Figure\",\"type\":\"Plot\"},\"ticker\":{\"id\":\"dac0d79a-c593-42f3-aef6-69f6d015f2b1\",\"type\":\"BasicTicker\"}},\"id\":\"38c9d46e-0d6f-46e3-93b6-6748183b07ca\",\"type\":\"Grid\"},{\"attributes\":{\"plot\":null,\"text\":\"\"},\"id\":\"e3cc7b22-f062-4d30-b28f-475abced5f19\",\"type\":\"Title\"},{\"attributes\":{\"callback\":null},\"id\":\"85645be4-a4e0-481e-a677-19339c1d07ad\",\"type\":\"DataRange1d\"},{\"attributes\":{},\"id\":\"a5832d3d-ac55-4c75-acdb-5a55383539b5\",\"type\":\"BasicTicker\"},{\"attributes\":{},\"id\":\"d8b224a6-b4b7-4e84-8f1e-711c3eefb01b\",\"type\":\"PanTool\"},{\"attributes\":{},\"id\":\"0a0e2320-e273-4a99-b8ab-53d248d6f256\",\"type\":\"ResetTool\"},{\"attributes\":{},\"id\":\"94bf4847-0b34-4902-86e3-b1112fbb5452\",\"type\":\"SaveTool\"}],\"root_ids\":[\"ed02dabe-aa50-4bd4-9519-e5fa0007bc8b\"]},\"title\":\"Bokeh Application\",\"version\":\"0.12.16\"}};\n",
       "  var render_items = [{\"docid\":\"299b06c2-0a2d-4552-832f-b899ea6327cb\",\"elementid\":\"054d5df3-8dd9-4d3f-a082-4288c75b15c8\",\"modelid\":\"ed02dabe-aa50-4bd4-9519-e5fa0007bc8b\",\"notebook_comms_target\":\"f86bc590-8eb0-4be0-8ba4-759f25a92f5e\"}];\n",
       "  root.Bokeh.embed.embed_items_notebook(docs_json, render_items);\n",
       "\n",
       "  }\n",
       "  if (root.Bokeh !== undefined) {\n",
       "    embed_document(root);\n",
       "  } else {\n",
       "    var attempts = 0;\n",
       "    var timer = setInterval(function(root) {\n",
       "      if (root.Bokeh !== undefined) {\n",
       "        embed_document(root);\n",
       "        clearInterval(timer);\n",
       "      }\n",
       "      attempts++;\n",
       "      if (attempts > 100) {\n",
       "        console.log(\"Bokeh: ERROR: Unable to run BokehJS code because BokehJS library is missing\")\n",
       "        clearInterval(timer);\n",
       "      }\n",
       "    }, 10, root)\n",
       "  }\n",
       "})(window);"
      ],
      "application/vnd.bokehjs_exec.v0+json": ""
     },
     "metadata": {
      "application/vnd.bokehjs_exec.v0+json": {
       "id": "ed02dabe-aa50-4bd4-9519-e5fa0007bc8b"
      }
     },
     "output_type": "display_data"
    }
   ],
   "source": [
    "print ('enter filename for test run')\n",
    "text=widgets.Text()\n",
    "display(text)\n",
    "\n",
    "def handle_submit(sender):\n",
    "    print('filename is {0}.csv'.format(text.value))\n",
    "\n",
    "    \n",
    "text.on_submit(handle_submit)\n",
    "\n",
    "button=widgets.Button(description='start data logging')\n",
    "display(button)\n",
    "\n",
    "logging=True\n",
    "\n",
    "def when_clicked(b):\n",
    "    p1=figure(plot_width=650,plot_height=350)\n",
    "    t=show(p1,notebook_handle=True)\n",
    "    loop_num=50\n",
    "\n",
    "    j=0\n",
    "\n",
    "    for i in range(loop_num):\n",
    "#     while logging:\n",
    "        # Use the a_in method for devices with a resolution <= 16\n",
    "        value = ul.a_in(board_num, channel, ai_range)\n",
    "        eng_units_value = ul.to_eng_units(board_num, ai_range, value) # Convert the raw value to engineering units\n",
    "\n",
    "        y=eng_units_value\n",
    "        r1=p1.circle(j,y,size=10)\n",
    "        push_notebook(handle=t)\n",
    "\n",
    "        j+=1\n",
    "        time.sleep(0.75)\n",
    "    \n",
    "button.on_click(when_clicked)\n",
    "\n",
    "button2=widgets.Button(description='stop data logging')\n",
    "display(button2)\n",
    "\n",
    "def when_clicked(c):\n",
    "    button1.close()\n",
    "    print('step 3')\n",
    "    print('step 4')\n",
    "    \n",
    "button2.on_click(when_clicked)"
   ]
  },
  {
   "cell_type": "code",
   "execution_count": 9,
   "metadata": {},
   "outputs": [
    {
     "data": {
      "text/plain": [
       "0"
      ]
     },
     "execution_count": 9,
     "metadata": {},
     "output_type": "execute_result"
    }
   ],
   "source": [
    "board_num"
   ]
  }
 ],
 "metadata": {
  "kernelspec": {
   "display_name": "Python 3",
   "language": "python",
   "name": "python3"
  },
  "language_info": {
   "codemirror_mode": {
    "name": "ipython",
    "version": 3
   },
   "file_extension": ".py",
   "mimetype": "text/x-python",
   "name": "python",
   "nbconvert_exporter": "python",
   "pygments_lexer": "ipython3",
   "version": "3.6.5"
  }
 },
 "nbformat": 4,
 "nbformat_minor": 2
}
