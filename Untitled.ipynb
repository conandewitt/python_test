{
 "cells": [
  {
   "cell_type": "code",
   "execution_count": 1,
   "metadata": {},
   "outputs": [],
   "source": [
    "import time\n",
    "import serial\n",
    "ser=serial.Serial('COM4',timeout=3.0)\n",
    "ser.flushInput()\n",
    "# ser_bytes = ser.readline()\n",
    "# print(ser_bytes)"
   ]
  },
  {
   "cell_type": "code",
   "execution_count": 2,
   "metadata": {},
   "outputs": [],
   "source": [
    "# cmd='*IDN?\\r\\n'\n",
    "# byte=cmd.encode('utf-8')\n",
    "# time.sleep(1)\n",
    "# print(byte)\n",
    "# ser.write(byte)\n",
    "# # ser_bytes = ser.read(ser.in_waiting) ##slow if not used\n",
    "# ser_bytes = ser.readline()\n",
    "# text=ser_bytes.decode('utf-8')\n",
    "# print(text)"
   ]
  },
  {
   "cell_type": "code",
   "execution_count": 13,
   "metadata": {},
   "outputs": [],
   "source": [
    "def dmm_cmd(string,serial,delay):\n",
    "\n",
    "    cmd=string+'\\r\\n'\n",
    "    byte=cmd.encode('utf-8')\n",
    "    time.sleep(delay)\n",
    "    serial.write(byte)\n",
    "    # ser_bytes = ser.read(ser.in_waiting) ##slow if not used\n",
    "    ser_bytes = serial.readline()\n",
    "    data=ser_bytes.decode('utf-8')\n",
    "    return data"
   ]
  },
  {
   "cell_type": "code",
   "execution_count": 23,
   "metadata": {},
   "outputs": [
    {
     "data": {
      "text/plain": [
       "'+0.00000000E+00\\r\\n'"
      ]
     },
     "execution_count": 23,
     "metadata": {},
     "output_type": "execute_result"
    }
   ],
   "source": [
    "# cmd='*IDN?'\n",
    "cmd='READ?'\n",
    "dmm_cmd(cmd,ser,0.1)"
   ]
  },
  {
   "cell_type": "code",
   "execution_count": 5,
   "metadata": {},
   "outputs": [],
   "source": [
    "# ser.close()"
   ]
  }
 ],
 "metadata": {
  "kernelspec": {
   "display_name": "Python 3",
   "language": "python",
   "name": "python3"
  },
  "language_info": {
   "codemirror_mode": {
    "name": "ipython",
    "version": 3
   },
   "file_extension": ".py",
   "mimetype": "text/x-python",
   "name": "python",
   "nbconvert_exporter": "python",
   "pygments_lexer": "ipython3",
   "version": "3.6.4"
  }
 },
 "nbformat": 4,
 "nbformat_minor": 2
}
