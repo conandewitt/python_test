{
 "cells": [
  {
   "cell_type": "code",
   "execution_count": 1,
   "metadata": {},
   "outputs": [],
   "source": [
    "import visa\n",
    "import sys\n",
    "import os\n",
    "import numpy as np\n",
    "import pandas as pd\n",
    "import time\n",
    "from matplotlib import pyplot as plt"
   ]
  },
  {
   "cell_type": "code",
   "execution_count": 2,
   "metadata": {},
   "outputs": [
    {
     "name": "stdout",
     "output_type": "stream",
     "text": [
      "USB0::0x0957::0x0909::MY54204090::0::INSTR\n"
     ]
    },
    {
     "data": {
      "text/plain": [
       "(19, <StatusCode.success: 0>)"
      ]
     },
     "execution_count": 2,
     "metadata": {},
     "output_type": "execute_result"
    }
   ],
   "source": [
    "rm = visa.ResourceManager()\n",
    "VISA_ADDRESS=rm.list_resources()[0]\n",
    "print(VISA_ADDRESS)\n",
    "\n",
    "E4980AL = rm.open_resource(VISA_ADDRESS)\n",
    "E4980AL.write(':TRIGger:SOURce %s' % ('BUS'))\n",
    "E4980AL.write(':FORMat:BORDer %s' % ('SWAP'))\n",
    "E4980AL.write(':FORMat:DATA %s' % ('REAL'))"
   ]
  },
  {
   "cell_type": "code",
   "execution_count": 3,
   "metadata": {},
   "outputs": [
    {
     "data": {
      "text/html": [
       "<div>\n",
       "<style scoped>\n",
       "    .dataframe tbody tr th:only-of-type {\n",
       "        vertical-align: middle;\n",
       "    }\n",
       "\n",
       "    .dataframe tbody tr th {\n",
       "        vertical-align: top;\n",
       "    }\n",
       "\n",
       "    .dataframe thead th {\n",
       "        text-align: right;\n",
       "    }\n",
       "</style>\n",
       "<table border=\"1\" class=\"dataframe\">\n",
       "  <thead>\n",
       "    <tr style=\"text-align: right;\">\n",
       "      <th></th>\n",
       "      <th>freq</th>\n",
       "      <th>Ls</th>\n",
       "      <th>Rs</th>\n",
       "      <th>timestamp</th>\n",
       "    </tr>\n",
       "  </thead>\n",
       "  <tbody>\n",
       "    <tr>\n",
       "      <th>0</th>\n",
       "      <td>0.0</td>\n",
       "      <td>0.0</td>\n",
       "      <td>0.0</td>\n",
       "      <td>0.0</td>\n",
       "    </tr>\n",
       "    <tr>\n",
       "      <th>1</th>\n",
       "      <td>0.0</td>\n",
       "      <td>0.0</td>\n",
       "      <td>0.0</td>\n",
       "      <td>0.0</td>\n",
       "    </tr>\n",
       "    <tr>\n",
       "      <th>2</th>\n",
       "      <td>0.0</td>\n",
       "      <td>0.0</td>\n",
       "      <td>0.0</td>\n",
       "      <td>0.0</td>\n",
       "    </tr>\n",
       "  </tbody>\n",
       "</table>\n",
       "</div>"
      ],
      "text/plain": [
       "   freq   Ls   Rs  timestamp\n",
       "0   0.0  0.0  0.0        0.0\n",
       "1   0.0  0.0  0.0        0.0\n",
       "2   0.0  0.0  0.0        0.0"
      ]
     },
     "execution_count": 3,
     "metadata": {},
     "output_type": "execute_result"
    }
   ],
   "source": [
    "num_pts=100\n",
    "lcr_df=pd.DataFrame(np.zeros((num_pts,4)),columns=['freq','Ls','Rs','timestamp'])\n",
    "lcr_df.head(3)"
   ]
  },
  {
   "cell_type": "code",
   "execution_count": 4,
   "metadata": {},
   "outputs": [],
   "source": [
    "# f_pts=np.arange(20,300*1000,step=10)\n",
    "f_pts=np.logspace(1.3,5.5,num_pts)\n",
    "# f_pts"
   ]
  },
  {
   "cell_type": "code",
   "execution_count": 5,
   "metadata": {},
   "outputs": [
    {
     "data": {
      "text/html": [
       "<div>\n",
       "<style scoped>\n",
       "    .dataframe tbody tr th:only-of-type {\n",
       "        vertical-align: middle;\n",
       "    }\n",
       "\n",
       "    .dataframe tbody tr th {\n",
       "        vertical-align: top;\n",
       "    }\n",
       "\n",
       "    .dataframe thead th {\n",
       "        text-align: right;\n",
       "    }\n",
       "</style>\n",
       "<table border=\"1\" class=\"dataframe\">\n",
       "  <thead>\n",
       "    <tr style=\"text-align: right;\">\n",
       "      <th></th>\n",
       "      <th>freq</th>\n",
       "      <th>Ls</th>\n",
       "      <th>Rs</th>\n",
       "      <th>timestamp</th>\n",
       "    </tr>\n",
       "  </thead>\n",
       "  <tbody>\n",
       "    <tr>\n",
       "      <th>90</th>\n",
       "      <td>131274.936893</td>\n",
       "      <td>9.134492</td>\n",
       "      <td>2.129029</td>\n",
       "      <td>28.666157</td>\n",
       "    </tr>\n",
       "    <tr>\n",
       "      <th>91</th>\n",
       "      <td>144745.829889</td>\n",
       "      <td>9.108129</td>\n",
       "      <td>2.289753</td>\n",
       "      <td>28.844503</td>\n",
       "    </tr>\n",
       "    <tr>\n",
       "      <th>92</th>\n",
       "      <td>159599.050408</td>\n",
       "      <td>9.076224</td>\n",
       "      <td>2.484900</td>\n",
       "      <td>28.988709</td>\n",
       "    </tr>\n",
       "    <tr>\n",
       "      <th>93</th>\n",
       "      <td>175976.447201</td>\n",
       "      <td>9.038954</td>\n",
       "      <td>2.717903</td>\n",
       "      <td>29.140317</td>\n",
       "    </tr>\n",
       "    <tr>\n",
       "      <th>94</th>\n",
       "      <td>194034.424956</td>\n",
       "      <td>8.993774</td>\n",
       "      <td>2.997076</td>\n",
       "      <td>29.294678</td>\n",
       "    </tr>\n",
       "    <tr>\n",
       "      <th>95</th>\n",
       "      <td>213945.437965</td>\n",
       "      <td>8.940235</td>\n",
       "      <td>3.332233</td>\n",
       "      <td>29.437086</td>\n",
       "    </tr>\n",
       "    <tr>\n",
       "      <th>96</th>\n",
       "      <td>235899.637070</td>\n",
       "      <td>8.876460</td>\n",
       "      <td>3.732758</td>\n",
       "      <td>29.578385</td>\n",
       "    </tr>\n",
       "    <tr>\n",
       "      <th>97</th>\n",
       "      <td>260106.685607</td>\n",
       "      <td>8.801597</td>\n",
       "      <td>4.208445</td>\n",
       "      <td>29.761067</td>\n",
       "    </tr>\n",
       "    <tr>\n",
       "      <th>98</th>\n",
       "      <td>286797.761699</td>\n",
       "      <td>8.713334</td>\n",
       "      <td>4.771237</td>\n",
       "      <td>29.906274</td>\n",
       "    </tr>\n",
       "    <tr>\n",
       "      <th>99</th>\n",
       "      <td>316227.766017</td>\n",
       "      <td>8.667726</td>\n",
       "      <td>5.063302</td>\n",
       "      <td>30.049483</td>\n",
       "    </tr>\n",
       "  </tbody>\n",
       "</table>\n",
       "</div>"
      ],
      "text/plain": [
       "             freq        Ls        Rs  timestamp\n",
       "90  131274.936893  9.134492  2.129029  28.666157\n",
       "91  144745.829889  9.108129  2.289753  28.844503\n",
       "92  159599.050408  9.076224  2.484900  28.988709\n",
       "93  175976.447201  9.038954  2.717903  29.140317\n",
       "94  194034.424956  8.993774  2.997076  29.294678\n",
       "95  213945.437965  8.940235  3.332233  29.437086\n",
       "96  235899.637070  8.876460  3.732758  29.578385\n",
       "97  260106.685607  8.801597  4.208445  29.761067\n",
       "98  286797.761699  8.713334  4.771237  29.906274\n",
       "99  316227.766017  8.667726  5.063302  30.049483"
      ]
     },
     "execution_count": 5,
     "metadata": {},
     "output_type": "execute_result"
    }
   ],
   "source": [
    "\n",
    "loopstart=time.time()\n",
    "i=0\n",
    "for freq in f_pts:\n",
    "\n",
    "    E4980AL.write(':FREQuency %f' % (freq))\n",
    "    E4980AL.write(':TRIGger:IMMediate')\n",
    "    Ls,Rs,_ = E4980AL.query_binary_values(':FETCh:IMPedance:FORMatted?','d',False)\n",
    "    E4980AL.write(':MEMory:CLEar %s' % ('DBUF'))\n",
    "    now=time.time()-loopstart\n",
    "    lcr_df.loc[i]=[freq,Ls*1E6,Rs,now]\n",
    "    time.sleep(0.01)\n",
    "    i+=1\n",
    "\n",
    "\n",
    "# print(Ls,Rs, sep='\\t')\n",
    "lcr_df.tail(10)"
   ]
  },
  {
   "cell_type": "code",
   "execution_count": 6,
   "metadata": {},
   "outputs": [],
   "source": [
    "E4980AL.close()\n",
    "rm.close()"
   ]
  },
  {
   "cell_type": "code",
   "execution_count": 7,
   "metadata": {},
   "outputs": [],
   "source": [
    "# directory=r'C:\\Users\\dewittc\\OneDrive - Boston Scientific\\meter\\lcr_meter\\raw_data'\n",
    "# os.chdir(directory)\n",
    "# filename='42AWG_4_250_7_3.csv'\n",
    "# lcr_df.to_csv(filename)\n",
    "# lcr_df.tail(10)"
   ]
  },
  {
   "cell_type": "code",
   "execution_count": 8,
   "metadata": {},
   "outputs": [],
   "source": [
    "# fig,ax=plt.subplots(nrows=1,ncols=1)\n",
    "# ax.scatter(np.log10(lcr_df['freq']),lcr_df['Ls'])\n",
    "# ax.set_title('Inductance vs freq')\n",
    "# ax.set_ylabel('Ls (uH)')\n",
    "# ax.set_xlabel('log10 freq (Hz)')"
   ]
  },
  {
   "cell_type": "code",
   "execution_count": 9,
   "metadata": {},
   "outputs": [
    {
     "data": {
      "text/plain": [
       "Text(0.5,0,'freq (Hz)')"
      ]
     },
     "execution_count": 9,
     "metadata": {},
     "output_type": "execute_result"
    },
    {
     "data": {
      "image/png": "[encoded data removed]",
      "text/plain": [
       "<Figure size 432x288 with 1 Axes>"
      ]
     },
     "metadata": {},
     "output_type": "display_data"
    }
   ],
   "source": [
    "fig,ax=plt.subplots(nrows=1,ncols=1)\n",
    "ax.semilogx(lcr_df['freq'],lcr_df['Ls'])\n",
    "ax.grid()\n",
    "ax.set_title('Inductance vs freq')\n",
    "ax.set_ylabel('Ls (uH)')\n",
    "ax.set_xlabel('freq (Hz)')"
   ]
  },
  {
   "cell_type": "code",
   "execution_count": 10,
   "metadata": {},
   "outputs": [
    {
     "data": {
      "text/plain": [
       "Text(0.5,0,'freq (Hz)')"
      ]
     },
     "execution_count": 10,
     "metadata": {},
     "output_type": "execute_result"
    },
    {
     "data": {
      "image/png": "[encoded data removed]",
      "text/plain": [
       "<Figure size 432x288 with 1 Axes>"
      ]
     },
     "metadata": {},
     "output_type": "display_data"
    }
   ],
   "source": [
    "fig,ax=plt.subplots(nrows=1,ncols=1)\n",
    "ax.semilogx(lcr_df['freq'],lcr_df['Rs'])\n",
    "ax.grid()\n",
    "ax.set_title('Resistance vs freq')\n",
    "ax.set_ylabel('Rs (ohm)')\n",
    "ax.set_xlabel('freq (Hz)')"
   ]
  }
 ],
 "metadata": {
  "kernelspec": {
   "display_name": "Python 3",
   "language": "python",
   "name": "python3"
  },
  "language_info": {
   "codemirror_mode": {
    "name": "ipython",
    "version": 3
   },
   "file_extension": ".py",
   "mimetype": "text/x-python",
   "name": "python",
   "nbconvert_exporter": "python",
   "pygments_lexer": "ipython3",
   "version": "3.6.5"
  }
 },
 "nbformat": 4,
 "nbformat_minor": 2
}
